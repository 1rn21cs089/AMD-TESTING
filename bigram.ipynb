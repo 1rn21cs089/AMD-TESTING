{
 "cells": [
  {
   "cell_type": "code",
   "execution_count": 21,
   "id": "48caeb0e",
   "metadata": {},
   "outputs": [
    {
     "name": "stdout",
     "output_type": "stream",
     "text": [
      "cpu\n"
     ]
    }
   ],
   "source": [
    "import torch\n",
    "device='cuda' if torch.cuda.is_available() else 'cpu'\n",
    "print(device)"
   ]
  },
  {
   "cell_type": "code",
   "execution_count": 13,
   "id": "b1a0623e",
   "metadata": {},
   "outputs": [
    {
     "name": "stdout",
     "output_type": "stream",
     "text": [
      "['\\n', ' ', '!', '\"', '&', \"'\", '(', ')', '*', ',', '-', '.', '0', '1', '2', '3', '4', '5', '6', '7', '8', '9', ':', ';', '?', 'A', 'B', 'C', 'D', 'E', 'F', 'G', 'H', 'I', 'J', 'K', 'L', 'M', 'N', 'O', 'P', 'Q', 'R', 'S', 'T', 'U', 'V', 'W', 'X', 'Y', 'Z', '[', ']', '_', 'a', 'b', 'c', 'd', 'e', 'f', 'g', 'h', 'i', 'j', 'k', 'l', 'm', 'n', 'o', 'p', 'q', 'r', 's', 't', 'u', 'v', 'w', 'x', 'y', 'z', '\\ufeff']\n"
     ]
    }
   ],
   "source": [
    "with open('wizard_of_oz.txt','r',encoding='utf-8') as f:\n",
    "    text=f.read()\n",
    "chars=sorted(set(text))\n",
    "print(chars)\n",
    "vocabulary_size=(len(chars))"
   ]
  },
  {
   "cell_type": "code",
   "execution_count": 14,
   "id": "e917cb48",
   "metadata": {},
   "outputs": [
    {
     "name": "stdout",
     "output_type": "stream",
     "text": [
      "tensor([80,  1,  1, 28, 39, 42, 39, 44, 32, 49,  1, 25, 38, 28,  1, 44, 32, 29,\n",
      "         1, 47, 33, 50, 25, 42, 28,  1, 33, 38,  1, 39, 50,  0,  0,  1,  1, 26,\n",
      "        49,  0,  0,  1,  1, 36, 11,  1, 30, 42, 25, 38, 35,  1, 26, 25, 45, 37,\n",
      "         0,  0,  1,  1, 25, 45, 44, 32, 39, 42,  1, 39, 30,  1, 44, 32, 29,  1,\n",
      "        47, 33, 50, 25, 42, 28,  1, 39, 30,  1, 39, 50,  9,  1, 44, 32, 29,  1,\n",
      "        36, 25, 38, 28,  1, 39, 30,  1, 39, 50])\n"
     ]
    }
   ],
   "source": [
    "string_to_int={ch:i for i,ch in enumerate(chars)}\n",
    "int_to_string={i:ch for i,ch in enumerate(chars)}\n",
    "encode=lambda s:[string_to_int[c] for c in s]\n",
    "decode=lambda l:''.join([int_to_string[i] for i in l])\n",
    "\n",
    "encoded_hello=encode('hello')\n",
    "decoded_hello=decode(encoded_hello)\n",
    "\n",
    "data=torch.tensor(encode(text),dtype=torch.long)\n",
    "print(data[:100])"
   ]
  },
  {
   "cell_type": "code",
   "execution_count": 16,
   "id": "3cb3b0b6",
   "metadata": {},
   "outputs": [],
   "source": [
    "#Dividing the data like 80-20 rule\n",
    "n=int(0.8*len(data))\n",
    "train_data=data[:n]\n",
    "val_data=data[n:]"
   ]
  },
  {
   "cell_type": "code",
   "execution_count": 17,
   "id": "0eb4eea9",
   "metadata": {},
   "outputs": [
    {
     "name": "stdout",
     "output_type": "stream",
     "text": [
      "when the i/p is tensor([80]) target is tensor(1)\n",
      "when the i/p is tensor([80,  1]) target is tensor(1)\n",
      "when the i/p is tensor([80,  1,  1]) target is tensor(28)\n",
      "when the i/p is tensor([80,  1,  1, 28]) target is tensor(39)\n",
      "when the i/p is tensor([80,  1,  1, 28, 39]) target is tensor(42)\n",
      "when the i/p is tensor([80,  1,  1, 28, 39, 42]) target is tensor(39)\n",
      "when the i/p is tensor([80,  1,  1, 28, 39, 42, 39]) target is tensor(44)\n",
      "when the i/p is tensor([80,  1,  1, 28, 39, 42, 39, 44]) target is tensor(32)\n"
     ]
    }
   ],
   "source": [
    "#Block after will the perdicted one, that will be added \n",
    "block_size=8 #size used for training\n",
    "x=train_data[:block_size]\n",
    "y=train_data[1:block_size+1]\n",
    "\n",
    "for t in range(block_size):\n",
    "    context=x[:t+1]\n",
    "    target=y[t]\n",
    "    print('when the i/p is',context,'target is',target)"
   ]
  },
  {
   "cell_type": "code",
   "execution_count": null,
   "id": "3d52ea90",
   "metadata": {},
   "outputs": [],
   "source": []
  }
 ],
 "metadata": {
  "kernelspec": {
   "display_name": "cudagpt",
   "language": "python",
   "name": "cuda"
  },
  "language_info": {
   "codemirror_mode": {
    "name": "ipython",
    "version": 3
   },
   "file_extension": ".py",
   "mimetype": "text/x-python",
   "name": "python",
   "nbconvert_exporter": "python",
   "pygments_lexer": "ipython3",
   "version": "3.11.4"
  }
 },
 "nbformat": 4,
 "nbformat_minor": 5
}
