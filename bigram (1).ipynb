{
 "cells": [
  {
   "cell_type": "code",
   "execution_count": 6,
   "id": "48caeb0e",
   "metadata": {},
   "outputs": [
    {
     "name": "stdout",
     "output_type": "stream",
     "text": [
      "cpu\n"
     ]
    }
   ],
   "source": [
    "import torch\n",
    "import torch.nn as nn\n",
    "from torch.nn import functional as F\n",
    "device = 'cuda' if torch.cuda.is_available() else 'cpu'\n",
    "print(device)\n",
    "block_size = 8\n",
    "batch_size = 4\n",
    "max_iters = 1000\n",
    "# eval_interval = 2500\n",
    "learning_rate = 3e-4\n",
    "eval_iters = 250"
   ]
  },
  {
   "cell_type": "code",
   "execution_count": 11,
   "id": "b1a0623e",
   "metadata": {},
   "outputs": [
    {
     "name": "stdout",
     "output_type": "stream",
     "text": [
      "['\\n', ' ', '!', '\"', '&', \"'\", '(', ')', '*', ',', '-', '.', '0', '1', '2', '3', '4', '5', '6', '7', '8', '9', ':', ';', '?', 'A', 'B', 'C', 'D', 'E', 'F', 'G', 'H', 'I', 'J', 'K', 'L', 'M', 'N', 'O', 'P', 'Q', 'R', 'S', 'T', 'U', 'V', 'W', 'X', 'Y', 'Z', '[', ']', '_', 'a', 'b', 'c', 'd', 'e', 'f', 'g', 'h', 'i', 'j', 'k', 'l', 'm', 'n', 'o', 'p', 'q', 'r', 's', 't', 'u', 'v', 'w', 'x', 'y', 'z', '\\ufeff']\n"
     ]
    }
   ],
   "source": [
    "with open('wizard_of_oz.txt', 'r', encoding='utf-8') as f:\n",
    "    text = f.read()\n",
    "chars = sorted(set(text))\n",
    "print(chars)\n",
    "vocab_size = len(chars)"
   ]
  },
  {
   "cell_type": "code",
   "execution_count": 12,
   "id": "e917cb48",
   "metadata": {},
   "outputs": [],
   "source": [
    "string_to_int = { ch:i for i,ch in enumerate(chars) }\n",
    "int_to_string = { i:ch for i,ch in enumerate(chars) }\n",
    "encode = lambda s: [string_to_int[c] for c in s]\n",
    "decode = lambda l: ''.join([int_to_string[i] for i in l])\n",
    "\n",
    "data = torch.tensor(encode(text), dtype=torch.long)\n",
    "# print(data[:100]"
   ]
  },
  {
   "cell_type": "code",
   "execution_count": 13,
   "id": "3cb3b0b6",
   "metadata": {},
   "outputs": [
    {
     "name": "stdout",
     "output_type": "stream",
     "text": [
      "inputs:\n",
      "tensor([[73, 68,  1, 60, 68,  1, 73, 68],\n",
      "        [ 9,  1, 72, 68, 66, 58,  1, 73],\n",
      "        [71, 75, 58, 65, 68, 74, 72, 65],\n",
      "        [67, 60,  1, 59, 62, 71, 72, 73]])\n",
      "targets:\n",
      "tensor([[68,  1, 60, 68,  1, 73, 68, 11],\n",
      "        [ 1, 72, 68, 66, 58,  1, 73, 62],\n",
      "        [75, 58, 65, 68, 74, 72, 65, 78],\n",
      "        [60,  1, 59, 62, 71, 72, 73,  1]])\n"
     ]
    }
   ],
   "source": [
    "n = int(0.8*len(data))\n",
    "train_data = data[:n]\n",
    "val_data = data[n:]\n",
    "\n",
    "def get_batch(split):\n",
    "    data = train_data if split == 'train' else val_data\n",
    "    ix = torch.randint(len(data) - block_size, (batch_size,))\n",
    "    x = torch.stack([data[i:i+block_size] for i in ix])\n",
    "    y = torch.stack([data[i+1:i+block_size+1] for i in ix])\n",
    "    x, y = x.to(device), y.to(device)\n",
    "    return x, y\n",
    "\n",
    "x, y = get_batch('train')\n",
    "print('inputs:')\n",
    "# print(x.shape)\n",
    "print(x)\n",
    "print('targets:')\n",
    "print(y)"
   ]
  },
  {
   "cell_type": "code",
   "execution_count": 17,
   "id": "0eb4eea9",
   "metadata": {},
   "outputs": [
    {
     "name": "stdout",
     "output_type": "stream",
     "text": [
      "when the i/p is tensor([80]) target is tensor(1)\n",
      "when the i/p is tensor([80,  1]) target is tensor(1)\n",
      "when the i/p is tensor([80,  1,  1]) target is tensor(28)\n",
      "when the i/p is tensor([80,  1,  1, 28]) target is tensor(39)\n",
      "when the i/p is tensor([80,  1,  1, 28, 39]) target is tensor(42)\n",
      "when the i/p is tensor([80,  1,  1, 28, 39, 42]) target is tensor(39)\n",
      "when the i/p is tensor([80,  1,  1, 28, 39, 42, 39]) target is tensor(44)\n",
      "when the i/p is tensor([80,  1,  1, 28, 39, 42, 39, 44]) target is tensor(32)\n"
     ]
    }
   ],
   "source": [
    "#Block after will the perdicted one, that will be added \n",
    "block_size=8 #size used for training\n",
    "x=train_data[:block_size]\n",
    "y=train_data[1:block_size+1]\n",
    "\n",
    "for t in range(block_size):\n",
    "    context=x[:t+1]\n",
    "    target=y[t]\n",
    "    print('when the i/p is',context,'target is',target)"
   ]
  },
  {
   "cell_type": "code",
   "execution_count": 9,
   "id": "3d52ea90",
   "metadata": {},
   "outputs": [],
   "source": [
    "@torch.no_grad()\n",
    "def estimate_loss():\n",
    "    out = {}\n",
    "    model.eval()\n",
    "    for split in ['train', 'val']:\n",
    "        losses = torch.zeros(eval_iters)\n",
    "        for k in range(eval_iters):\n",
    "            X, Y = get_batch(split)\n",
    "            logits, loss = model(X, Y)\n",
    "            losses[k] = loss.item()\n",
    "        out[split] = losses.mean()\n",
    "    model.train()\n",
    "    return out"
   ]
  },
  {
   "cell_type": "code",
   "execution_count": 14,
   "id": "92cf2068",
   "metadata": {},
   "outputs": [
    {
     "name": "stdout",
     "output_type": "stream",
     "text": [
      "\n",
      "EX4qYEA,yC(VBjjuaUvYCM eynxjz0t9fl,\n",
      "Enyv_RhL:bx1Ek,b1ECsx\"AE;zdhKO\"1Fx Sq[xOPDV_zaUzh:,4\n",
      "ycRI1Sdk[yS3lR\"] 1\"l&xw79osN4PqU.n[YW?g&6WURwEJlD.w.Qg6eycydln56P_*J:W(att!l'B T ;(pzB﻿zn[GcQsI﻿TJv?zWl]v\n",
      "Vc,yCs,bG8]Fn[[PMCRI,Gb6OvD,9eF;N)AA80'(];z﻿Z9o?aUJ]]XU(tGZ]G_RLk1,aQgDhdP:QJmB\n",
      ".y&?7aruwD,4I A﻿zVk﻿n[b7vYW8rQEGrMeRGQ Akt7CSj3t9E)S:FYkFG;&Z1W*aY?(!q[I;eR﻿fN4(6MR\"2CG0\"\"yh)juV-3auqr'Y6aKFh]'R'Rn8VN!A,bjQ2EC2n[8!&&nG_C)N6P,vUp(]I w;zc;zBJvhyZ5vYKRJHmgFb6﻿FD[bFg[f-lJO9OvZ&.wprAk!N_ca:M:Zqxw7vYkWcmQBJHwbxX\n"
     ]
    }
   ],
   "source": [
    "class BigramLanguageModel(nn.Module):\n",
    "    def __init__(self, vocab_size):\n",
    "        super().__init__()\n",
    "        self.token_embedding_table = nn.Embedding(vocab_size, vocab_size)\n",
    "        \n",
    "    def forward(self, index, targets=None):\n",
    "        logits = self.token_embedding_table(index)\n",
    "        \n",
    "        \n",
    "        if targets is None:\n",
    "            loss = None\n",
    "        else:\n",
    "            B, T, C = logits.shape\n",
    "            logits = logits.view(B*T, C)\n",
    "            targets = targets.view(B*T)\n",
    "            loss = F.cross_entropy(logits, targets)\n",
    "        \n",
    "        return logits, loss\n",
    "    \n",
    "    def generate(self, index, max_new_tokens):\n",
    "        # index is (B, T) array of indices in the current context\n",
    "        for _ in range(max_new_tokens):\n",
    "            # get the predictions\n",
    "            logits, loss = self.forward(index)\n",
    "            # focus only on the last time step\n",
    "            logits = logits[:, -1, :] # becomes (B, C)\n",
    "            # apply softmax to get probabilities\n",
    "            probs = F.softmax(logits, dim=-1) # (B, C)\n",
    "            # sample from the distribution\n",
    "            index_next = torch.multinomial(probs, num_samples=1) # (B, 1)\n",
    "            # append sampled index to the running sequence\n",
    "            index = torch.cat((index, index_next), dim=1) # (B, T+1)\n",
    "        return index\n",
    "\n",
    "model = BigramLanguageModel(vocab_size)\n",
    "m = model.to(device)\n",
    "\n",
    "context = torch.zeros((1,1), dtype=torch.long, device=device)\n",
    "generated_chars = decode(m.generate(context, max_new_tokens=500)[0].tolist())\n",
    "print(generated_chars)"
   ]
  },
  {
   "cell_type": "code",
   "execution_count": 15,
   "id": "4089642d",
   "metadata": {},
   "outputs": [
    {
     "name": "stdout",
     "output_type": "stream",
     "text": [
      "step: 0, train loss: 4.893, val loss: 4.921\n",
      "step: 250, train loss: 4.852, val loss: 4.864\n",
      "step: 500, train loss: 4.769, val loss: 4.822\n",
      "step: 750, train loss: 4.721, val loss: 4.731\n",
      "4.677820682525635\n"
     ]
    }
   ],
   "source": [
    "# create a PyTorch optimizer\n",
    "optimizer = torch.optim.AdamW(model.parameters(), lr=learning_rate)\n",
    "\n",
    "for iter in range(max_iters):\n",
    "    if iter % eval_iters == 0:\n",
    "        losses = estimate_loss()\n",
    "        print(f\"step: {iter}, train loss: {losses['train']:.3f}, val loss: {losses['val']:.3f}\")\n",
    "\n",
    "    # sample a batch of data\n",
    "    xb, yb = get_batch('train')\n",
    "\n",
    "    # evaluate the loss\n",
    "    logits, loss = model.forward(xb, yb)\n",
    "    optimizer.zero_grad(set_to_none=True)\n",
    "    loss.backward()\n",
    "    optimizer.step()\n",
    "print(loss.item())"
   ]
  },
  {
   "cell_type": "code",
   "execution_count": 16,
   "id": "74cc6ef0",
   "metadata": {},
   "outputs": [
    {
     "name": "stdout",
     "output_type": "stream",
     "text": [
      "\n",
      "O_﻿8Cohh tteUs:2[n)Km*?gBJv4YW-aQ\"JHYW;zd0_kig2 ?rM4ONoi?tgu'9tjuVUI[XxcR\"]Q1uBpwUh[dnbxUHebT[okF HEGVI 1Eu]BxcF2c\n",
      "vb?kfLwm gqOvba3Jgt(Ia;B 1)f?equOj,4leZe4G!75 ZQxSaFixQ 14If;rf!xZxbHKqpUL9?wMq\"ycSd'﻿z!cG1MzL',,fUZ\"cR\"\"GNu(6_4j30*6vYQ4US7v6E.'DxUnf,j]L;,gqE]OF\n",
      ")j6E,n1bxbjz8eUOF!8T7,bo&(;-ZdGG5V(ICdxWu[kbso5vNM;Y,6&pHYdWkXa'c8TJKtd8p9fdQ.w_Jm';zaa\"1]9PYWfOhFAkOPat9xe5*aa\n",
      ")EHYWa)Xv\n",
      "ueP﻿z﻿fI37V*OPG8z6Oon4MMSioLg5-7wX:Z31-7aeP:YW*-l5YW*JH:]&wey3Xh7K,vXznPG[)b;rWX:JLlAh'p9PUlwVFDfyYWO1M,g)fI,9qCr-7u\n"
     ]
    }
   ],
   "source": [
    "context = torch.zeros((1,1), dtype=torch.long, device=device)\n",
    "generated_chars = decode(m.generate(context, max_new_tokens=500)[0].tolist())\n",
    "print(generated_chars)"
   ]
  },
  {
   "cell_type": "code",
   "execution_count": null,
   "id": "9478c296",
   "metadata": {},
   "outputs": [],
   "source": []
  }
 ],
 "metadata": {
  "kernelspec": {
   "display_name": "cudagpt",
   "language": "python",
   "name": "cuda"
  },
  "language_info": {
   "codemirror_mode": {
    "name": "ipython",
    "version": 3
   },
   "file_extension": ".py",
   "mimetype": "text/x-python",
   "name": "python",
   "nbconvert_exporter": "python",
   "pygments_lexer": "ipython3",
   "version": "3.11.4"
  }
 },
 "nbformat": 4,
 "nbformat_minor": 5
}
